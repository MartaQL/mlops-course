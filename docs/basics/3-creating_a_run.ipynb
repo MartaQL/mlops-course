{
 "cells": [
  {
   "cell_type": "markdown",
   "metadata": {},
   "source": [
    "# Create a Run\n",
    "\n",
    "In the context of MLflow, a \"run\" refers to a **specific instance of an experiment**. You can think of a \"run\" as a unique execution of an experiment, where specific configurations are applied, a model is trained with particular data, and results are recorded.\n",
    "\n",
    "![mlflow_frontend](../../assets/mlflow_frontend.jpg)\n",
    "\n",
    "Following the example of the house price prediction model, a \"run\" would be a concrete execution of an experiment. Every time you perform a test, adjust parameters, or use a specific dataset within your MLflow experiment, you are creating a new \"run\" within that experiment. Each \"run\" keeps a detailed record of how parameters were configured, which data was used, and what results were obtained in that particular execution.\n",
    "\n",
    "The ability to track and compare multiple \"runs\" within the same experiment is valuable because it allows you to explore different approaches and settings, record the details of each attempt, and determine which one is the most effective based on performance metrics and results. In summary, a \"run\" in MLflow is an individual instance of an experiment that helps you keep an accurate track of your tests and progress in your machine learning project."
   ]
  },
  {
   "cell_type": "code",
   "execution_count": 3,
   "metadata": {},
   "outputs": [
    {
     "name": "stdout",
     "output_type": "stream",
     "text": [
      "🎉 Run ID: fc328ae065794158bfee21a3514bbfb4\n"
     ]
    }
   ],
   "source": [
    "import mlflow\n",
    "\n",
    "\n",
    "EXPERIMENT_NAME = \"mlflow-demo\"  #  ❗ make sure this experiment exists\n",
    "RUN_NAME = \"run-empty\"\n",
    "\n",
    "\n",
    "# Get the experiment ID\n",
    "experiment_id = mlflow.get_experiment_by_name(EXPERIMENT_NAME).experiment_id\n",
    "\n",
    "# Start a run\n",
    "with mlflow.start_run(\n",
    "    experiment_id=experiment_id,\n",
    "    run_name=RUN_NAME,  \n",
    ") as run:\n",
    "    \n",
    "    # Print the run ID\n",
    "    print(f\"🎉 Run ID: {run.info.run_id}\")"
   ]
  },
  {
   "cell_type": "code",
   "execution_count": 1,
   "metadata": {},
   "outputs": [
    {
     "data": {
      "text/plain": [
       "'2024-06-05_13:19:35'"
      ]
     },
     "execution_count": 1,
     "metadata": {},
     "output_type": "execute_result"
    }
   ],
   "source": [
    "import sklearn\n",
    "\n",
    "from datetime import datetime\n",
    "\n",
    "now = datetime.now().strftime(\"%Y-%m-%d_%H:%M:%S\")\n",
    "\n",
    "now\n",
    "\n"
   ]
  },
  {
   "cell_type": "code",
   "execution_count": 4,
   "metadata": {},
   "outputs": [
    {
     "name": "stdout",
     "output_type": "stream",
     "text": [
      "🎉 Run ID: e344b42456e54a31b0e659c4b9050505\n",
      "🎉 Run ID: 4b45bda6ec0647d38d2e518db74d4d1c\n",
      "🎉 Run ID: f56aa547ae884143b99c97d8cc40551b\n",
      "🎉 Run ID: 9dfa4def59844598af710772bd092deb\n",
      "🎉 Run ID: 1be3f202466743259c3a8edac343b079\n",
      "🎉 Run ID: 4f4faf7730ba4d2bb75696f832528d6e\n",
      "🎉 Run ID: 18ca16ba345e439993a1d65a1fa2cb11\n",
      "🎉 Run ID: 8194d4589918491eb4ef10cda05e28ad\n",
      "🎉 Run ID: 4a4d612025a149fea8cd1b724538e7c3\n",
      "🎉 Run ID: 1ddfb4f97bf64057a669cb3aac9d9d11\n"
     ]
    }
   ],
   "source": [
    "import time\n",
    "for i in range(10):\n",
    "    now = datetime.now().strftime(\"%Y-%m-%d_%H:%M:%S\")\n",
    "    run_name = \"run-empty-\" + now\n",
    "\n",
    "\n",
    "    # Start a run\n",
    "    with mlflow.start_run(experiment_id=experiment_id, run_name = run_name) as run:  \n",
    "        time.sleep(0.5)\n",
    "        # Print the run ID\n",
    "        print(f\"🎉 Run ID: {run.info.run_id}\")"
   ]
  }
 ],
 "metadata": {
  "kernelspec": {
   "display_name": "Python 3",
   "language": "python",
   "name": "python3"
  },
  "language_info": {
   "codemirror_mode": {
    "name": "ipython",
    "version": 3
   },
   "file_extension": ".py",
   "mimetype": "text/x-python",
   "name": "python",
   "nbconvert_exporter": "python",
   "pygments_lexer": "ipython3",
   "version": "3.11.5"
  },
  "orig_nbformat": 4,
  "vscode": {
   "interpreter": {
    "hash": "949777d72b0d2535278d3dc13498b2535136f6dfe0678499012e853ee9abcab1"
   }
  }
 },
 "nbformat": 4,
 "nbformat_minor": 2
}
